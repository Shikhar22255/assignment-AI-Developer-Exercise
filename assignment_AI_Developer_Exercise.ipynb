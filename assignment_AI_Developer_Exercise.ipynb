{
  "nbformat": 4,
  "nbformat_minor": 0,
  "metadata": {
    "colab": {
      "provenance": [],
      "authorship_tag": "ABX9TyMm1oOeSDaithFkCITfwVxB",
      "include_colab_link": true
    },
    "kernelspec": {
      "name": "python3",
      "display_name": "Python 3"
    },
    "language_info": {
      "name": "python"
    }
  },
  "cells": [
    {
      "cell_type": "markdown",
      "metadata": {
        "id": "view-in-github",
        "colab_type": "text"
      },
      "source": [
        "<a href=\"https://colab.research.google.com/github/Shikhar22255/assignment-AI-Developer-Exercise/blob/main/assignment_AI_Developer_Exercise.ipynb\" target=\"_parent\"><img src=\"https://colab.research.google.com/assets/colab-badge.svg\" alt=\"Open In Colab\"/></a>"
      ]
    },
    {
      "cell_type": "code",
      "source": [
        "pip install playsound"
      ],
      "metadata": {
        "colab": {
          "base_uri": "https://localhost:8080/"
        },
        "id": "Hvm1sX88bnz-",
        "outputId": "3720e8f8-583a-4c21-c5fa-ee98db52fe9b"
      },
      "execution_count": 5,
      "outputs": [
        {
          "output_type": "stream",
          "name": "stdout",
          "text": [
            "Collecting playsound\n",
            "  Downloading playsound-1.3.0.tar.gz (7.7 kB)\n",
            "  Preparing metadata (setup.py) ... \u001b[?25l\u001b[?25hdone\n",
            "Building wheels for collected packages: playsound\n",
            "  Building wheel for playsound (setup.py) ... \u001b[?25l\u001b[?25hdone\n",
            "  Created wheel for playsound: filename=playsound-1.3.0-py3-none-any.whl size=7020 sha256=a4df0fd6c02a6216f3a3ad893952e983e237bc764d51ee8056035e14ce9fd767\n",
            "  Stored in directory: /root/.cache/pip/wheels/50/98/42/62753a9e1fb97579a0ce2f84f7db4c21c09d03bb2091e6cef4\n",
            "Successfully built playsound\n",
            "Installing collected packages: playsound\n",
            "Successfully installed playsound-1.3.0\n"
          ]
        }
      ]
    },
    {
      "cell_type": "code",
      "source": [
        "pip install gtts"
      ],
      "metadata": {
        "colab": {
          "base_uri": "https://localhost:8080/"
        },
        "id": "Nwz23-nDbdLB",
        "outputId": "dfd8b6b4-feb5-4a8a-a7de-45cd57d82f2b"
      },
      "execution_count": 4,
      "outputs": [
        {
          "output_type": "stream",
          "name": "stdout",
          "text": [
            "Collecting gtts\n",
            "  Downloading gTTS-2.5.4-py3-none-any.whl.metadata (4.1 kB)\n",
            "Requirement already satisfied: requests<3,>=2.27 in /usr/local/lib/python3.11/dist-packages (from gtts) (2.32.3)\n",
            "Requirement already satisfied: click<8.2,>=7.1 in /usr/local/lib/python3.11/dist-packages (from gtts) (8.1.8)\n",
            "Requirement already satisfied: charset-normalizer<4,>=2 in /usr/local/lib/python3.11/dist-packages (from requests<3,>=2.27->gtts) (3.4.1)\n",
            "Requirement already satisfied: idna<4,>=2.5 in /usr/local/lib/python3.11/dist-packages (from requests<3,>=2.27->gtts) (3.10)\n",
            "Requirement already satisfied: urllib3<3,>=1.21.1 in /usr/local/lib/python3.11/dist-packages (from requests<3,>=2.27->gtts) (2.3.0)\n",
            "Requirement already satisfied: certifi>=2017.4.17 in /usr/local/lib/python3.11/dist-packages (from requests<3,>=2.27->gtts) (2025.1.31)\n",
            "Downloading gTTS-2.5.4-py3-none-any.whl (29 kB)\n",
            "Installing collected packages: gtts\n",
            "Successfully installed gtts-2.5.4\n"
          ]
        }
      ]
    },
    {
      "cell_type": "code",
      "source": [
        "pip install speechrecognition"
      ],
      "metadata": {
        "colab": {
          "base_uri": "https://localhost:8080/"
        },
        "id": "VBNH-M-lbV-_",
        "outputId": "2858a0d8-4963-4d4d-fe39-17a64ad05862"
      },
      "execution_count": 3,
      "outputs": [
        {
          "output_type": "stream",
          "name": "stdout",
          "text": [
            "Collecting speechrecognition\n",
            "  Downloading SpeechRecognition-3.14.1-py3-none-any.whl.metadata (31 kB)\n",
            "Requirement already satisfied: typing-extensions in /usr/local/lib/python3.11/dist-packages (from speechrecognition) (4.12.2)\n",
            "Downloading SpeechRecognition-3.14.1-py3-none-any.whl (32.9 MB)\n",
            "\u001b[2K   \u001b[90m━━━━━━━━━━━━━━━━━━━━━━━━━━━━━━━━━━━━━━━━\u001b[0m \u001b[32m32.9/32.9 MB\u001b[0m \u001b[31m42.6 MB/s\u001b[0m eta \u001b[36m0:00:00\u001b[0m\n",
            "\u001b[?25hInstalling collected packages: speechrecognition\n",
            "Successfully installed speechrecognition-3.14.1\n"
          ]
        }
      ]
    },
    {
      "cell_type": "code",
      "source": [
        "pip install openai"
      ],
      "metadata": {
        "colab": {
          "base_uri": "https://localhost:8080/"
        },
        "id": "zoE1MMHdbQ-U",
        "outputId": "df664ec6-d706-4165-efa3-bbf690063659"
      },
      "execution_count": 2,
      "outputs": [
        {
          "output_type": "stream",
          "name": "stdout",
          "text": [
            "Requirement already satisfied: openai in /usr/local/lib/python3.11/dist-packages (1.61.1)\n",
            "Requirement already satisfied: anyio<5,>=3.5.0 in /usr/local/lib/python3.11/dist-packages (from openai) (3.7.1)\n",
            "Requirement already satisfied: distro<2,>=1.7.0 in /usr/local/lib/python3.11/dist-packages (from openai) (1.9.0)\n",
            "Requirement already satisfied: httpx<1,>=0.23.0 in /usr/local/lib/python3.11/dist-packages (from openai) (0.28.1)\n",
            "Requirement already satisfied: jiter<1,>=0.4.0 in /usr/local/lib/python3.11/dist-packages (from openai) (0.9.0)\n",
            "Requirement already satisfied: pydantic<3,>=1.9.0 in /usr/local/lib/python3.11/dist-packages (from openai) (2.10.6)\n",
            "Requirement already satisfied: sniffio in /usr/local/lib/python3.11/dist-packages (from openai) (1.3.1)\n",
            "Requirement already satisfied: tqdm>4 in /usr/local/lib/python3.11/dist-packages (from openai) (4.67.1)\n",
            "Requirement already satisfied: typing-extensions<5,>=4.11 in /usr/local/lib/python3.11/dist-packages (from openai) (4.12.2)\n",
            "Requirement already satisfied: idna>=2.8 in /usr/local/lib/python3.11/dist-packages (from anyio<5,>=3.5.0->openai) (3.10)\n",
            "Requirement already satisfied: certifi in /usr/local/lib/python3.11/dist-packages (from httpx<1,>=0.23.0->openai) (2025.1.31)\n",
            "Requirement already satisfied: httpcore==1.* in /usr/local/lib/python3.11/dist-packages (from httpx<1,>=0.23.0->openai) (1.0.7)\n",
            "Requirement already satisfied: h11<0.15,>=0.13 in /usr/local/lib/python3.11/dist-packages (from httpcore==1.*->httpx<1,>=0.23.0->openai) (0.14.0)\n",
            "Requirement already satisfied: annotated-types>=0.6.0 in /usr/local/lib/python3.11/dist-packages (from pydantic<3,>=1.9.0->openai) (0.7.0)\n",
            "Requirement already satisfied: pydantic-core==2.27.2 in /usr/local/lib/python3.11/dist-packages (from pydantic<3,>=1.9.0->openai) (2.27.2)\n"
          ]
        }
      ]
    },
    {
      "cell_type": "code",
      "source": [
        "! pip install --upgrade openai\n",
        "\n"
      ],
      "metadata": {
        "colab": {
          "base_uri": "https://localhost:8080/"
        },
        "id": "IdKtofTrk_vR",
        "outputId": "7a713ab5-07c4-4aea-e309-32e24237cc95"
      },
      "execution_count": 19,
      "outputs": [
        {
          "output_type": "stream",
          "name": "stdout",
          "text": [
            "Requirement already satisfied: openai in /usr/local/lib/python3.11/dist-packages (1.61.1)\n",
            "Collecting openai\n",
            "  Downloading openai-1.66.3-py3-none-any.whl.metadata (25 kB)\n",
            "Requirement already satisfied: anyio<5,>=3.5.0 in /usr/local/lib/python3.11/dist-packages (from openai) (3.7.1)\n",
            "Requirement already satisfied: distro<2,>=1.7.0 in /usr/local/lib/python3.11/dist-packages (from openai) (1.9.0)\n",
            "Requirement already satisfied: httpx<1,>=0.23.0 in /usr/local/lib/python3.11/dist-packages (from openai) (0.28.1)\n",
            "Requirement already satisfied: jiter<1,>=0.4.0 in /usr/local/lib/python3.11/dist-packages (from openai) (0.9.0)\n",
            "Requirement already satisfied: pydantic<3,>=1.9.0 in /usr/local/lib/python3.11/dist-packages (from openai) (2.10.6)\n",
            "Requirement already satisfied: sniffio in /usr/local/lib/python3.11/dist-packages (from openai) (1.3.1)\n",
            "Requirement already satisfied: tqdm>4 in /usr/local/lib/python3.11/dist-packages (from openai) (4.67.1)\n",
            "Requirement already satisfied: typing-extensions<5,>=4.11 in /usr/local/lib/python3.11/dist-packages (from openai) (4.12.2)\n",
            "Requirement already satisfied: idna>=2.8 in /usr/local/lib/python3.11/dist-packages (from anyio<5,>=3.5.0->openai) (3.10)\n",
            "Requirement already satisfied: certifi in /usr/local/lib/python3.11/dist-packages (from httpx<1,>=0.23.0->openai) (2025.1.31)\n",
            "Requirement already satisfied: httpcore==1.* in /usr/local/lib/python3.11/dist-packages (from httpx<1,>=0.23.0->openai) (1.0.7)\n",
            "Requirement already satisfied: h11<0.15,>=0.13 in /usr/local/lib/python3.11/dist-packages (from httpcore==1.*->httpx<1,>=0.23.0->openai) (0.14.0)\n",
            "Requirement already satisfied: annotated-types>=0.6.0 in /usr/local/lib/python3.11/dist-packages (from pydantic<3,>=1.9.0->openai) (0.7.0)\n",
            "Requirement already satisfied: pydantic-core==2.27.2 in /usr/local/lib/python3.11/dist-packages (from pydantic<3,>=1.9.0->openai) (2.27.2)\n",
            "Downloading openai-1.66.3-py3-none-any.whl (567 kB)\n",
            "\u001b[2K   \u001b[90m━━━━━━━━━━━━━━━━━━━━━━━━━━━━━━━━━━━━━━━━\u001b[0m \u001b[32m567.4/567.4 kB\u001b[0m \u001b[31m26.5 MB/s\u001b[0m eta \u001b[36m0:00:00\u001b[0m\n",
            "\u001b[?25hInstalling collected packages: openai\n",
            "  Attempting uninstall: openai\n",
            "    Found existing installation: openai 1.61.1\n",
            "    Uninstalling openai-1.61.1:\n",
            "      Successfully uninstalled openai-1.61.1\n",
            "Successfully installed openai-1.66.3\n"
          ]
        }
      ]
    },
    {
      "cell_type": "code",
      "source": [
        "import os\n",
        "import time\n",
        "import json\n",
        "import requests\n",
        "import speech_recognition as sr\n",
        "from gtts import gTTS\n",
        "import playsound\n",
        "\n",
        "# ✅ Securely Fetch API Key from Environment Variable\n",
        "API_KEY = os.getenv(\"OPENROUTER_API_KEY\", \"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\")\n",
        "API_URL = \"https://openrouter.ai/api/v1/chat/completions\"\n",
        "\n",
        "# ✅ Load or Initialize User Progress\n",
        "def load_progress():\n",
        "    if os.path.exists(\"progress.json\"):\n",
        "        with open(\"progress.json\", \"r\") as file:\n",
        "            return json.load(file)\n",
        "    return {}\n",
        "\n",
        "def save_progress(data):\n",
        "    with open(\"progress.json\", \"w\") as file:\n",
        "        json.dump(data, file, indent=4)\n",
        "\n",
        "progress = load_progress()\n",
        "\n",
        "def chat_with_ai(user_input):\n",
        "    headers = {\"Authorization\": f\"Bearer {API_KEY}\", \"Content-Type\": \"application/json\"}\n",
        "    data = {\n",
        "        \"model\": \"mistralai/mistral-7b-instruct\",  # ✅ Correct model for OpenRouter\n",
        "        \"messages\": [{\"role\": \"system\", \"content\": \"You are a verbal communication coach.\"},\n",
        "                     {\"role\": \"user\", \"content\": user_input}]\n",
        "    }\n",
        "    retries, delay = 3, 5\n",
        "    while retries > 0:\n",
        "        try:\n",
        "            response = requests.post(API_URL, headers=headers, json=data)\n",
        "            response_json = response.json()\n",
        "\n",
        "            # ✅ Debugging: Print Full Response\n",
        "            print(\"🔍 API Response:\", response_json)\n",
        "\n",
        "            # ✅ Check if 'choices' exists\n",
        "            if \"choices\" in response_json and len(response_json[\"choices\"]) > 0:\n",
        "                return response_json[\"choices\"][0][\"message\"][\"content\"]\n",
        "            else:\n",
        "                return f\"❌ Unexpected API Response: {response_json}\"\n",
        "\n",
        "        except requests.exceptions.RequestException as e:\n",
        "            print(f\"⚠️ API Error: {e}, Retrying in {delay} seconds...\")\n",
        "            time.sleep(delay)\n",
        "            delay *= 2\n",
        "            retries -= 1\n",
        "    return \"❌ No available models found or request failed.\"\n",
        "\n",
        "def speech_to_text():\n",
        "    recognizer = sr.Recognizer()\n",
        "    with sr.Microphone() as source:\n",
        "        print(\"Speak now...\")\n",
        "        audio = recognizer.listen(source)\n",
        "    try:\n",
        "        text = recognizer.recognize_google(audio)\n",
        "        print(\"You said:\", text)\n",
        "        return text\n",
        "    except sr.UnknownValueError:\n",
        "        return \"Sorry, I could not understand.\"\n",
        "    except sr.RequestError:\n",
        "        return \"Error with speech recognition service.\"\n",
        "\n",
        "def text_to_speech(text):\n",
        "    try:\n",
        "        tts = gTTS(text)\n",
        "        tts.save(\"response.mp3\")\n",
        "        playsound.playsound(\"response.mp3\")\n",
        "    except Exception as e:\n",
        "        print(f\"⚠️ Text-to-Speech Error: {e}\")\n",
        "\n",
        "def evaluate_presentation(script):\n",
        "    prompt = f\"Evaluate this presentation script:\\n{script}\\nProvide feedback on structure, tone, clarity, and engagement.\"\n",
        "    feedback = chat_with_ai(prompt)\n",
        "    return feedback\n",
        "\n",
        "def training_module(module_type):\n",
        "    prompts = {\n",
        "        \"impromptu\": \"Explain why teamwork is important in 60 seconds.\",\n",
        "        \"storytelling\": \"Tell a short story about overcoming a challenge.\",\n",
        "        \"conflict_resolution\": \"Respond diplomatically to: 'I'm upset because you missed a deadline.'\"\n",
        "    }\n",
        "    if module_type not in prompts:\n",
        "        return \"Invalid training module.\"\n",
        "    user_response = input(f\"{prompts[module_type]}\\nYour Response: \")\n",
        "    feedback = chat_with_ai(user_response)\n",
        "    progress[module_type] = {\"response\": user_response, \"feedback\": feedback}\n",
        "    save_progress(progress)\n",
        "    return feedback\n",
        "\n",
        "def main():\n",
        "    while True:\n",
        "        print(\"\\nOptions:\\n1. Chat with AI\\n2. Voice Input (May not work in all environments)\\n3. Evaluate Presentation\\n4. Training Modules\\n5. Exit\")\n",
        "        choice = input(\"Choose an option: \")\n",
        "\n",
        "        if choice == \"1\":\n",
        "            user_input = input(\"Enter your message: \")\n",
        "            response = chat_with_ai(user_input)\n",
        "            print(\"AI:\", response)\n",
        "            text_to_speech(response)\n",
        "\n",
        "        elif choice == \"2\":\n",
        "            user_input = speech_to_text()\n",
        "            response = chat_with_ai(user_input)\n",
        "            print(\"AI:\", response)\n",
        "            text_to_speech(response)\n",
        "\n",
        "        elif choice == \"3\":\n",
        "            script = input(\"Enter your presentation script: \")\n",
        "            feedback = evaluate_presentation(script)\n",
        "            print(\"Feedback:\", feedback)\n",
        "\n",
        "        elif choice == \"4\":\n",
        "            print(\"Training Modules:\\n1. Impromptu Speaking\\n2. Storytelling\\n3. Conflict Resolution\")\n",
        "            mod_choice = input(\"Choose a module: \")\n",
        "            module_map = {\"1\": \"impromptu\", \"2\": \"storytelling\", \"3\": \"conflict_resolution\"}\n",
        "            if mod_choice in module_map:\n",
        "                feedback = training_module(module_map[mod_choice])\n",
        "                print(\"Training Feedback:\", feedback)\n",
        "            else:\n",
        "                print(\"Invalid choice.\")\n",
        "\n",
        "        elif choice == \"5\":\n",
        "            break\n",
        "        else:\n",
        "            print(\"Invalid choice. Try again.\")\n",
        "\n",
        "if __name__ == \"__main__\":\n",
        "    main()"
      ],
      "metadata": {
        "colab": {
          "base_uri": "https://localhost:8080/",
          "height": 879
        },
        "collapsed": true,
        "id": "na67GyRDoaoX",
        "outputId": "a16b775b-5988-4bf8-c110-271b22e93f0b"
      },
      "execution_count": 23,
      "outputs": [
        {
          "output_type": "stream",
          "name": "stdout",
          "text": [
            "\n",
            "Options:\n",
            "1. Chat with AI\n",
            "2. Voice Input (May not work in all environments)\n",
            "3. Evaluate Presentation\n",
            "4. Training Modules\n",
            "5. Exit\n",
            "Choose an option: 1\n",
            "Enter your message: hii\n",
            "🔍 API Response: {'id': 'gen-1742056410-4wtR1hAd2qrpmWEc6CnS', 'provider': 'DeepInfra', 'model': 'mistralai/mistral-7b-instruct', 'object': 'chat.completion', 'created': 1742056410, 'choices': [{'logprobs': None, 'finish_reason': 'stop', 'native_finish_reason': 'stop', 'index': 0, 'message': {'role': 'assistant', 'content': \" Hello! How can I assist you with verbal communication today? I'm here to help you improve your communication skills, whether you need help with public speaking, presentations, conversations, or making your messages more clear and impactful. Let's get started!\", 'refusal': None}}], 'usage': {'prompt_tokens': 16, 'completion_tokens': 54, 'total_tokens': 70}}\n",
            "AI:  Hello! How can I assist you with verbal communication today? I'm here to help you improve your communication skills, whether you need help with public speaking, presentations, conversations, or making your messages more clear and impactful. Let's get started!\n",
            "⚠️ Text-to-Speech Error: Command '['/usr/bin/python3', '/usr/local/lib/python3.11/dist-packages/playsound.py', 'response.mp3']' returned non-zero exit status 1.\n",
            "\n",
            "Options:\n",
            "1. Chat with AI\n",
            "2. Voice Input (May not work in all environments)\n",
            "3. Evaluate Presentation\n",
            "4. Training Modules\n",
            "5. Exit\n",
            "Choose an option: 1\n",
            "Enter your message: hii\n",
            "🔍 API Response: {'id': 'gen-1742056570-sS2M6XSh9fB75Q1ytZpL', 'provider': 'Novita', 'model': 'mistralai/mistral-7b-instruct', 'object': 'chat.completion', 'created': 1742056570, 'choices': [{'logprobs': None, 'finish_reason': 'stop', 'native_finish_reason': 'stop', 'index': 0, 'message': {'role': 'assistant', 'content': \" Hello there! As a verbal communication coach, I'm here to help you improve your verbal communication skills. I can provide tips and strategies on how to express yourself clearly, confidently, and persuasively in various situations, ranging from professional to social settings. I'm happy to help you with public speaking, active listening, writing, and various forms of professional communication. What specifically would you like to work on?\", 'refusal': None}}], 'usage': {'prompt_tokens': 17, 'completion_tokens': 88, 'total_tokens': 105}}\n",
            "AI:  Hello there! As a verbal communication coach, I'm here to help you improve your verbal communication skills. I can provide tips and strategies on how to express yourself clearly, confidently, and persuasively in various situations, ranging from professional to social settings. I'm happy to help you with public speaking, active listening, writing, and various forms of professional communication. What specifically would you like to work on?\n",
            "⚠️ Text-to-Speech Error: Command '['/usr/bin/python3', '/usr/local/lib/python3.11/dist-packages/playsound.py', 'response.mp3']' returned non-zero exit status 1.\n",
            "\n",
            "Options:\n",
            "1. Chat with AI\n",
            "2. Voice Input (May not work in all environments)\n",
            "3. Evaluate Presentation\n",
            "4. Training Modules\n",
            "5. Exit\n"
          ]
        },
        {
          "output_type": "error",
          "ename": "KeyboardInterrupt",
          "evalue": "Interrupted by user",
          "traceback": [
            "\u001b[0;31m---------------------------------------------------------------------------\u001b[0m",
            "\u001b[0;31mKeyboardInterrupt\u001b[0m                         Traceback (most recent call last)",
            "\u001b[0;32m<ipython-input-23-2ac5029da34b>\u001b[0m in \u001b[0;36m<cell line: 0>\u001b[0;34m()\u001b[0m\n\u001b[1;32m    132\u001b[0m \u001b[0;34m\u001b[0m\u001b[0m\n\u001b[1;32m    133\u001b[0m \u001b[0;32mif\u001b[0m \u001b[0m__name__\u001b[0m \u001b[0;34m==\u001b[0m \u001b[0;34m\"__main__\"\u001b[0m\u001b[0;34m:\u001b[0m\u001b[0;34m\u001b[0m\u001b[0;34m\u001b[0m\u001b[0m\n\u001b[0;32m--> 134\u001b[0;31m     \u001b[0mmain\u001b[0m\u001b[0;34m(\u001b[0m\u001b[0;34m)\u001b[0m\u001b[0;34m\u001b[0m\u001b[0;34m\u001b[0m\u001b[0m\n\u001b[0m",
            "\u001b[0;32m<ipython-input-23-2ac5029da34b>\u001b[0m in \u001b[0;36mmain\u001b[0;34m()\u001b[0m\n\u001b[1;32m     97\u001b[0m     \u001b[0;32mwhile\u001b[0m \u001b[0;32mTrue\u001b[0m\u001b[0;34m:\u001b[0m\u001b[0;34m\u001b[0m\u001b[0;34m\u001b[0m\u001b[0m\n\u001b[1;32m     98\u001b[0m         \u001b[0mprint\u001b[0m\u001b[0;34m(\u001b[0m\u001b[0;34m\"\\nOptions:\\n1. Chat with AI\\n2. Voice Input (May not work in all environments)\\n3. Evaluate Presentation\\n4. Training Modules\\n5. Exit\"\u001b[0m\u001b[0;34m)\u001b[0m\u001b[0;34m\u001b[0m\u001b[0;34m\u001b[0m\u001b[0m\n\u001b[0;32m---> 99\u001b[0;31m         \u001b[0mchoice\u001b[0m \u001b[0;34m=\u001b[0m \u001b[0minput\u001b[0m\u001b[0;34m(\u001b[0m\u001b[0;34m\"Choose an option: \"\u001b[0m\u001b[0;34m)\u001b[0m\u001b[0;34m\u001b[0m\u001b[0;34m\u001b[0m\u001b[0m\n\u001b[0m\u001b[1;32m    100\u001b[0m \u001b[0;34m\u001b[0m\u001b[0m\n\u001b[1;32m    101\u001b[0m         \u001b[0;32mif\u001b[0m \u001b[0mchoice\u001b[0m \u001b[0;34m==\u001b[0m \u001b[0;34m\"1\"\u001b[0m\u001b[0;34m:\u001b[0m\u001b[0;34m\u001b[0m\u001b[0;34m\u001b[0m\u001b[0m\n",
            "\u001b[0;32m/usr/local/lib/python3.11/dist-packages/ipykernel/kernelbase.py\u001b[0m in \u001b[0;36mraw_input\u001b[0;34m(self, prompt)\u001b[0m\n\u001b[1;32m   1175\u001b[0m                 \u001b[0;34m\"raw_input was called, but this frontend does not support input requests.\"\u001b[0m\u001b[0;34m\u001b[0m\u001b[0;34m\u001b[0m\u001b[0m\n\u001b[1;32m   1176\u001b[0m             )\n\u001b[0;32m-> 1177\u001b[0;31m         return self._input_request(\n\u001b[0m\u001b[1;32m   1178\u001b[0m             \u001b[0mstr\u001b[0m\u001b[0;34m(\u001b[0m\u001b[0mprompt\u001b[0m\u001b[0;34m)\u001b[0m\u001b[0;34m,\u001b[0m\u001b[0;34m\u001b[0m\u001b[0;34m\u001b[0m\u001b[0m\n\u001b[1;32m   1179\u001b[0m             \u001b[0mself\u001b[0m\u001b[0;34m.\u001b[0m\u001b[0m_parent_ident\u001b[0m\u001b[0;34m[\u001b[0m\u001b[0;34m\"shell\"\u001b[0m\u001b[0;34m]\u001b[0m\u001b[0;34m,\u001b[0m\u001b[0;34m\u001b[0m\u001b[0;34m\u001b[0m\u001b[0m\n",
            "\u001b[0;32m/usr/local/lib/python3.11/dist-packages/ipykernel/kernelbase.py\u001b[0m in \u001b[0;36m_input_request\u001b[0;34m(self, prompt, ident, parent, password)\u001b[0m\n\u001b[1;32m   1217\u001b[0m             \u001b[0;32mexcept\u001b[0m \u001b[0mKeyboardInterrupt\u001b[0m\u001b[0;34m:\u001b[0m\u001b[0;34m\u001b[0m\u001b[0;34m\u001b[0m\u001b[0m\n\u001b[1;32m   1218\u001b[0m                 \u001b[0;31m# re-raise KeyboardInterrupt, to truncate traceback\u001b[0m\u001b[0;34m\u001b[0m\u001b[0;34m\u001b[0m\u001b[0m\n\u001b[0;32m-> 1219\u001b[0;31m                 \u001b[0;32mraise\u001b[0m \u001b[0mKeyboardInterrupt\u001b[0m\u001b[0;34m(\u001b[0m\u001b[0;34m\"Interrupted by user\"\u001b[0m\u001b[0;34m)\u001b[0m \u001b[0;32mfrom\u001b[0m \u001b[0;32mNone\u001b[0m\u001b[0;34m\u001b[0m\u001b[0;34m\u001b[0m\u001b[0m\n\u001b[0m\u001b[1;32m   1220\u001b[0m             \u001b[0;32mexcept\u001b[0m \u001b[0mException\u001b[0m\u001b[0;34m:\u001b[0m\u001b[0;34m\u001b[0m\u001b[0;34m\u001b[0m\u001b[0m\n\u001b[1;32m   1221\u001b[0m                 \u001b[0mself\u001b[0m\u001b[0;34m.\u001b[0m\u001b[0mlog\u001b[0m\u001b[0;34m.\u001b[0m\u001b[0mwarning\u001b[0m\u001b[0;34m(\u001b[0m\u001b[0;34m\"Invalid Message:\"\u001b[0m\u001b[0;34m,\u001b[0m \u001b[0mexc_info\u001b[0m\u001b[0;34m=\u001b[0m\u001b[0;32mTrue\u001b[0m\u001b[0;34m)\u001b[0m\u001b[0;34m\u001b[0m\u001b[0;34m\u001b[0m\u001b[0m\n",
            "\u001b[0;31mKeyboardInterrupt\u001b[0m: Interrupted by user"
          ]
        }
      ]
    }
  ]
}